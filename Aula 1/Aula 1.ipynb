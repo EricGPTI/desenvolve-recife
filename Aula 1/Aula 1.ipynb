{
 "cells": [
  {
   "cell_type": "markdown",
   "id": "a618f1ea",
   "metadata": {},
   "source": [
    "<div align=\"center\"><h1><font color=\"#660000\"><span style=\"font-family:Times New Roman; font-size:50px;\"><background-color=\"black\">Projeto Desenvolve Recife</background></font></h1></div>"
   ]
  },
  {
   "cell_type": "markdown",
   "id": "f3ee457f",
   "metadata": {},
   "source": [
    "<div align=\"center\"><h1><font color=\"#660000\"><span style=\"font-family:Times New Roman; font-size:30px;\"><background-color=\"black\">Desenvolvimento de Sistemas com Python</background></font></h1></div>"
   ]
  },
  {
   "cell_type": "markdown",
   "id": "2f33ad94",
   "metadata": {},
   "source": [
    "<div align=\"left\"><h1><font color=\"#660000\"><span style=\"font-family:Times New Roman; font-size:20px;\"><background-color=\"black\">História</background></font></h1></div>"
   ]
  },
  {
   "cell_type": "markdown",
   "id": "c14f7144",
   "metadata": {},
   "source": [
    "Python foi desenvolvida na década de 80, por volta de 1989 no Instituto de Pesquisa Nacional para Matemática e Ciência da Computação (CWI) na Holanda.\n",
    "Foi criada como sucessora da linguagem de programação ABC, sendo capaz de tratar exceções e prover interface com o Sistema Operacional Amoeba, por meio de scripts. O foco da linguagem era Python era aumentar a produtividade dos programadores, numa época onde a linguagem usada era a C.\n",
    "\n",
    "Seu criador se chama  **Guido van Rossum** esse cara símpático ai da foto abaixo:\n",
    "\n",
    "![Guido van Rossum](https://education.ti.com/-/media/ti/t3-europe/images/blog/blog-python-blog-guido.jpg?la=pt&rev=f6eacfd1-297c-436d-ab40-bb3686478165&hash=160E49021E67FAFA93BAE823FEFA8A03AC2ED165)\n",
    "\n",
    "A versão 1.0 foi lançada em 1994.\n",
    "\n",
    "O nome Python, originalmente não tem nenhuma relação com o réptil(cobra) piton, na verdade.\n",
    "\n",
    "No centro do WCI, onde a linguagem foi desenvolvida, havia uma cultura onde tudo que era desenvolvido recebia o nome de algo famoso, e não foi diferente com o Python. O Sr. Guido gostava muito de um programa de humor chamado [Monty Python's Flying Circus](\"https://pt.wikipedia.org/wiki/Monty_Python\"), então, ao desenvolver a linguagem python, deu o este nome em homenagem ao grupo de humoristas chamados de Monty Python.\n",
    "\n",
    "Até este momento, o Sr. Guido lutava para desvincular a linguagem do nome do réptil. Sempre que palestrava deixava isso claro, no entanto, quando uma editora especializada em publicações de livros de tecnologia chamada [O'Reilly](\"https://www.oreilly.com/\"), que sempre colocava em suas capas algum animal, lançou um livro sobre Python, ela colocou justamente o réptil na sua capa. Desde então, a associação ficou como sendo o seu símbolo e ficou impossível ao Sr. Guido lutar contra. "
   ]
  },
  {
   "cell_type": "markdown",
   "id": "c79a52a1",
   "metadata": {},
   "source": [
    "<div align=\"left\"><h1><font color=\"#660000\"><span style=\"font-family:Times New Roman; font-size:20px;\"><background-color=\"black\">Filosofia</background></font></h1></div>"
   ]
  },
  {
   "cell_type": "markdown",
   "id": "3d603409",
   "metadata": {},
   "source": [
    "Python possui um poema que descreve sua filosofia e faz parte da documentação oficial.\n",
    "\n",
    "A forma de visualizarmos esse poema/filosofia é simples, basta digitar no console do python o seguinte comando:\n",
    "\n",
    "```\n",
    ">>> import this\n",
    "```"
   ]
  },
  {
   "cell_type": "markdown",
   "id": "40f4cf26",
   "metadata": {},
   "source": [
    "<div align=\"left\"><h1><font color=\"#660000\"><span style=\"font-family:Times New Roman; font-size:20px;\"><background-color=\"black\">Versionamento</background></font></h1></div>"
   ]
  },
  {
   "cell_type": "markdown",
   "id": "052d502b",
   "metadata": {},
   "source": [
    "Python atualmente possui duas versões principais, sendo a versão **2.7** e a vesão **3.x**.\n",
    "\n",
    "A versão 2.7 deveria ter encerrado o suporte em 2015, mas seus desenvolvedores decidiram por estender o prazo para Janeiro de 2020. Com isso, a versão **2** ficou ativa por **20** anos, até que seu fim chegou em definitivo, dando lugar a já consolidada versão **3.x**.\n",
    "\n",
    "O versionamento em desenvolvimento de software é algo muito importante, pois o versionamento pode determinar a existência de uma falha(bug) ou não.\n",
    "\n",
    "O versionamento, comumente segue a seguinte estrutura:\n",
    "\n",
    "* x.x.x - vamos nos aprofundar no significado de cada x no exemplo.\n",
    "\n",
    "O primeiro **x** significa a versão maior do software, ou seja, a versão na qual o software é reconhecido como minimamente estável e pronto para produção. É quando temos um software que pode ser distibuído ou vendido. Consideramos que é uma versão completa e estável do software.\n",
    "\n",
    "o segundo **x** significa que houve uma alteração muito importante no software, uma correção de bug ou adição/remoção de um recurso novo, por exemplo, que trouxe grandes mudanças ao software, no entanto, não houve mudanças estruturais, ou seja, tudo que estava funcionando deve permanecer funcionando da mesma forma, sem a necessidade de mudanças por parte daqueles que já utilizam o software.\n",
    "\n",
    "O terceiro **x** significa que algumas mudança ocorreu, uma correção de um bug, por exemplo, que estaria impactando o trabalho, mas nada muito grave. Por exemplo, um cliente reporta que um determinado campo de um formulário de email está aceitando dados que não tem um padrão de e-mail, algo como eric.com.br ou um texto corrido, neste caso, fazemos uma pequena correção aplicando validação de campo no formulário da página e lançamos o que chamamos de **RELEASE**. \n",
    "\n",
    "Para exemplificar o uso, digamos que temos um software que teve sua versão 1 disponibilizada no mercado. Então teremos algo como **v1.0.0**. No entanto, um bug no formulário, mais especificamente no campo de e-mail foi encontrado e uma correção foi feita. Ao lançarmos a nova release teremos uma release **v1.0.1**. Nosso time de desenvolvedores implementa uma nova funcionalidade que irá ajudar nossos clientes na emissão de relatório, na verdade, um novo relatório foi implementado, então termos a nova release **v1.1.0**.\n",
    "\n",
    "Mas e quando temos algo como **v0.15.357**? Bom, este é um ponto muito importante. As necessidades de mercado ou mesmo quando queremos lançar uma ferramenta no mercado para testar sua aceitação, ou ainda para conseguir apoio de desenvolvedores em nosso projeto, podemos lançar uma versão incompleta ou inacabada de nosso software ou aplicação, neste caso, temos um software/sistema/aplicação que ainda não está pronta, o que significa que está instável. Quando utilizamos uma ferramenta/software com estas características temos que tomar muito cuidado, pois não há garantias de que ela fará o que se propõe, pelo menos não com estabilidade e segurança. Podem existir falhas de segurança que podem impactar em nosso software. Tome cuidado!\n",
    "\n",
    "E quando temos **x.x.x.x**? Neste caso, o último valor representa um [metadado](\"https://dicionario.priberam.org/metadados), como por exemplo temos uma versão **v1.2.0.build32524**, ou seja, estamos especificando a uma informação sobre o nosso build.\n",
    "\n",
    "A esse sistema de versionamento chamamos de **Versionamento Semântico** onde **x.x.x** significa respectivamente **Versão_Maior.Versão_Menor.Versão_de_Correção** ou **Major.Minor.Patch**."
   ]
  },
  {
   "cell_type": "markdown",
   "id": "24834f11",
   "metadata": {},
   "source": [
    "<div align=\"left\"><h1><font color=\"#660000\"><span style=\"font-family:Times New Roman; font-size:20px;\"><background-color=\"black\">Arquitetura de Computadores</background></font></h1></div>"
   ]
  },
  {
   "cell_type": "markdown",
   "id": "10441a90",
   "metadata": {},
   "source": []
  }
 ],
 "metadata": {
  "kernelspec": {
   "display_name": "Python 3",
   "language": "python",
   "name": "python3"
  },
  "language_info": {
   "codemirror_mode": {
    "name": "ipython",
    "version": 3
   },
   "file_extension": ".py",
   "mimetype": "text/x-python",
   "name": "python",
   "nbconvert_exporter": "python",
   "pygments_lexer": "ipython3",
   "version": "3.8.8"
  }
 },
 "nbformat": 4,
 "nbformat_minor": 5
}
